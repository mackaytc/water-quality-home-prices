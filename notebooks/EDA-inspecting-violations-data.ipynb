{
 "cells": [
  {
   "cell_type": "markdown",
   "id": "4ba9ffa3",
   "metadata": {},
   "source": [
    "# Exploratory Data Analysis: _Checking Violations Data_\n",
    "\n",
    "In this file, we'll check the violations panel data set created by `01-data-cleaning-violations-panel.py` to confirm general data structure and variable definitions look correct. Then, we'll calculate some basic summary statistics and descriptive plots."
   ]
  },
  {
   "cell_type": "code",
   "execution_count": null,
   "id": "b668148a",
   "metadata": {},
   "outputs": [],
   "source": [
    "# Loading required libraries and setting working directory\n",
    "\n",
    "import os\n",
    "import sys\n",
    "import pandas as pd\n",
    "import numpy as np\n",
    "import matplotlib.pyplot as plt\n",
    "import seaborn as sns"
   ]
  },
  {
   "cell_type": "code",
   "execution_count": null,
   "id": "7c4f4373",
   "metadata": {},
   "outputs": [],
   "source": []
  }
 ],
 "metadata": {
  "kernelspec": {
   "display_name": "water-quality-project",
   "language": "python",
   "name": "python3"
  },
  "language_info": {
   "codemirror_mode": {
    "name": "ipython",
    "version": 3
   },
   "file_extension": ".py",
   "mimetype": "text/x-python",
   "name": "python",
   "nbconvert_exporter": "python",
   "pygments_lexer": "ipython3",
   "version": "3.12.10"
  }
 },
 "nbformat": 4,
 "nbformat_minor": 5
}
