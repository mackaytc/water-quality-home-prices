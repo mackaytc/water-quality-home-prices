{
 "cells": [
  {
   "cell_type": "markdown",
   "id": "4ba9ffa3",
   "metadata": {},
   "source": [
    "# Exploratory Data Analysis: _Checking CWS to ZCTA Mapping_\n",
    "\n",
    "In this file, we'll check the CWS to ZCTA crosswalks created by `01-data-cleaning-mapping-CWS-ZCTA.py` to confirm data availability and correspondence across ZCTA 2000 and 2010 definitions. Then, we'll generate some basic maps showing the overlay output."
   ]
  },
  {
   "cell_type": "code",
   "execution_count": null,
   "id": "b668148a",
   "metadata": {},
   "outputs": [],
   "source": [
    "# Loading required libraries and setting working directory\n",
    "\n",
    "import os\n",
    "import sys\n",
    "import pandas as pd\n",
    "import numpy as np\n",
    "import matplotlib.pyplot as plt\n",
    "import seaborn as sns"
   ]
  },
  {
   "cell_type": "code",
   "execution_count": null,
   "id": "7c4f4373",
   "metadata": {},
   "outputs": [],
   "source": [
    "# -----------------------------------------------------------------------------\n",
    "# Inspecting Crosswalk Files Created Above\n",
    "# -----------------------------------------------------------------------------\n",
    "\n",
    "# Load both datasets created above\n",
    "crosswalk_2000 = pd.read_csv(os.path.join(\n",
    "    config.PROCESSED_DATA_DIR, \n",
    "    \"CA-PWS-to-ZTCA-2000-crosswalk.csv\"\n",
    "))\n",
    "\n",
    "crosswalk_SF_2000 = gpd.read_file(os.path.join(\n",
    "    config.PROCESSED_DATA_DIR,\n",
    "    \"CA-PWS-to-ZTCA-2000-crosswalk-SF.geojson\"\n",
    "))\n",
    "\n",
    "# Check total overlap across each ZTCA for each CWS\n",
    "total_overlap = crosswalk_2000.groupby(\"SABL_PWSID\")[\"coverage_frac_ztca\"].sum().reset_index()\n",
    "total_overlap = total_overlap.sort_values(\"coverage_frac_ztca\", ascending=False)\n",
    "print(\"\\nTop 10 PWS systems by total ZTCA overlap:\")\n",
    "print(total_overlap.head(10))\n",
    "\n",
    "# Define list of all zip codes included in the intersections output\n",
    "zcta_list = crosswalk_SF_2000[\"ZCTA5CE00\"].unique()\n",
    "\n",
    "# Load ZTCA shapes for visualization (subsetted to ones we need)\n",
    "ztca_for_plot = ztca_equal_area[ztca_equal_area[\"ZCTA5CE00\"].isin(zcta_list)]\n",
    "\n",
    "# Plot ZTCA and PWS boundaries\n",
    "fig, ax = plt.subplots(figsize=(12, 10))\n",
    "\n",
    "# Base layer - ZTCA boundaries in light blue with transparent fill\n",
    "ztca_for_plot.plot(ax=ax, color=\"skyblue\", edgecolor=\"skyblue\", alpha=0.2, label=\"ZTCA Boundaries\")\n",
    "\n",
    "# Middle layer - CWS boundaries in red with no fill\n",
    "# Only plotting first 10 for visibility\n",
    "pws_subset = pws_with_violations[pws_with_violations[\"SABL_PWSID\"].isin(PWS_with_violation_IDs[:10])]\n",
    "pws_subset.plot(ax=ax, color=\"red\", facecolor=\"none\", linewidth=1, label=\"CWS Boundaries\")\n",
    "\n",
    "# Add labels and title\n",
    "ax.set_title(\"Water System and ZTCA Boundaries with Intersections\", fontsize=14)\n",
    "ax.set_xlabel(\"Longitude\")\n",
    "ax.set_ylabel(\"Latitude\")\n",
    "ax.legend()\n",
    "\n",
    "# Save figure\n",
    "plt.savefig(os.path.join(\n",
    "    config.OUTPUT_FIG_DIR,\n",
    "    \"water-system-ztca-boundaries.png\"\n",
    "), dpi=300, bbox_inches=\"tight\")\n",
    "\n",
    "print(\"Analysis complete. Visualization saved.\")"
   ]
  }
 ],
 "metadata": {
  "kernelspec": {
   "display_name": "water-quality-project",
   "language": "python",
   "name": "python3"
  },
  "language_info": {
   "codemirror_mode": {
    "name": "ipython",
    "version": 3
   },
   "file_extension": ".py",
   "mimetype": "text/x-python",
   "name": "python",
   "nbconvert_exporter": "python",
   "pygments_lexer": "ipython3",
   "version": "3.12.10"
  }
 },
 "nbformat": 4,
 "nbformat_minor": 5
}
